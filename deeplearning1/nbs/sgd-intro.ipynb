{
 "cells": [
  {
   "cell_type": "markdown",
   "metadata": {
    "toc": "true"
   },
   "source": [
    "# Table of Contents\n",
    " <p>"
   ]
  },
  {
   "cell_type": "code",
   "execution_count": 1,
   "metadata": {
    "collapsed": true
   },
   "outputs": [],
   "source": [
    "%matplotlib inline\n",
    "import math,sys,os,numpy as np\n",
    "from numpy.random import random\n",
    "from matplotlib import pyplot as plt, rcParams, animation, rc\n",
    "from __future__ import print_function, division\n",
    "from ipywidgets import interact, interactive, fixed\n",
    "from ipywidgets.widgets import *\n",
    "rc('animation', html='html5')\n",
    "rcParams['figure.figsize'] = 3, 3\n",
    "%precision 4\n",
    "np.set_printoptions(precision=4, linewidth=100)"
   ]
  },
  {
   "cell_type": "code",
   "execution_count": 2,
   "metadata": {
    "collapsed": true
   },
   "outputs": [],
   "source": [
    "def lin(a,b,x): return a*x+b"
   ]
  },
  {
   "cell_type": "code",
   "execution_count": 3,
   "metadata": {
    "collapsed": true
   },
   "outputs": [],
   "source": [
    "a=3.\n",
    "b=8."
   ]
  },
  {
   "cell_type": "code",
   "execution_count": 4,
   "metadata": {
    "collapsed": true
   },
   "outputs": [],
   "source": [
    "n=30\n",
    "x = random(n)\n",
    "y = lin(a,b,x)"
   ]
  },
  {
   "cell_type": "code",
   "execution_count": 5,
   "metadata": {
    "collapsed": false
   },
   "outputs": [
    {
     "data": {
      "text/plain": [
       "array([ 0.034 ,  0.6242,  0.9606,  0.4726,  0.0999,  0.3317,  0.428 ,  0.8898,  0.1446,  0.588 ,\n",
       "        0.1542,  0.2069,  0.1565,  0.9151,  0.9953,  0.4706,  0.8187,  0.8472,  0.9786,  0.5416,\n",
       "        0.3273,  0.1847,  0.9898,  0.4049,  0.745 ,  0.7033,  0.1159,  0.6173,  0.5496,  0.9912])"
      ]
     },
     "execution_count": 5,
     "metadata": {},
     "output_type": "execute_result"
    }
   ],
   "source": [
    "x"
   ]
  },
  {
   "cell_type": "code",
   "execution_count": 6,
   "metadata": {
    "collapsed": false
   },
   "outputs": [
    {
     "data": {
      "text/plain": [
       "array([  8.1021,   9.8726,  10.8818,   9.4178,   8.2997,   8.9952,   9.284 ,  10.6694,   8.4338,\n",
       "         9.7641,   8.4627,   8.6206,   8.4696,  10.7453,  10.9858,   9.4117,  10.456 ,  10.5416,\n",
       "        10.9359,   9.6247,   8.9819,   8.5541,  10.9693,   9.2146,  10.2349,  10.1098,   8.3476,\n",
       "         9.8519,   9.6488,  10.9735])"
      ]
     },
     "execution_count": 6,
     "metadata": {},
     "output_type": "execute_result"
    }
   ],
   "source": [
    "y"
   ]
  },
  {
   "cell_type": "code",
   "execution_count": 7,
   "metadata": {
    "collapsed": false
   },
   "outputs": [
    {
     "data": {
      "text/plain": [
       "<matplotlib.collections.PathCollection at 0x7f1e2d03c750>"
      ]
     },
     "execution_count": 7,
     "metadata": {},
     "output_type": "execute_result"
    },
    {
     "data": {
      "image/png": "[encoded data removed]",
      "text/plain": [
       "<matplotlib.figure.Figure at 0x7f1e5013acd0>"
      ]
     },
     "metadata": {},
     "output_type": "display_data"
    }
   ],
   "source": [
    "plt.scatter(x,y)"
   ]
  },
  {
   "cell_type": "code",
   "execution_count": 8,
   "metadata": {
    "collapsed": true
   },
   "outputs": [],
   "source": [
    "def sse(y,y_pred): \n",
    "    \"\"\"Sum of squared errors\"\"\"\n",
    "    return ((y-y_pred)**2).sum()\n",
    "\n",
    "def loss(y,a,b,x):\n",
    "    \"\"\"Loss function (= sum of squared errors)\"\"\"\n",
    "    return sse(y, lin(a,b,x))\n",
    "\n",
    "def avg_loss(y,a,b,x):\n",
    "    \"\"\"Average loss\"\"\"\n",
    "    return np.sqrt(loss(y,a,b,x)/n)"
   ]
  },
  {
   "cell_type": "code",
   "execution_count": 9,
   "metadata": {
    "collapsed": false
   },
   "outputs": [
    {
     "data": {
      "text/plain": [
       "9.2569"
      ]
     },
     "execution_count": 9,
     "metadata": {},
     "output_type": "execute_result"
    }
   ],
   "source": [
    "a_guess=-1.\n",
    "b_guess=1.\n",
    "avg_loss(y, a_guess, b_guess, x)"
   ]
  },
  {
   "cell_type": "code",
   "execution_count": 10,
   "metadata": {
    "collapsed": true
   },
   "outputs": [],
   "source": [
    "lr=0.01\n",
    "# d[(y-(a*x+b))**2,b] = 2 (b + a x - y)      = 2 (y_pred - y)\n",
    "# d[(y-(a*x+b))**2,a] = 2 x (b + a x - y)    = x * dy/db"
   ]
  },
  {
   "cell_type": "code",
   "execution_count": 11,
   "metadata": {
    "collapsed": false
   },
   "outputs": [],
   "source": [
    "a_guess_hist = []\n",
    "b_guess_hist = []\n",
    "dyda_hist = []\n",
    "dydb_hist = []\n",
    "def upd():\n",
    "    global a_guess, b_guess\n",
    "    y_pred = lin(a_guess, b_guess, x)\n",
    "    dydb = 2 * (y_pred - y)\n",
    "    dyda = x*dydb\n",
    "    a_guess -= lr*dyda.mean()\n",
    "    b_guess -= lr*dydb.mean()\n",
    "    dydb_hist.append(dydb.mean())\n",
    "    dyda_hist.append(dyda.mean())\n",
    "    a_guess_hist.append(a_guess)\n",
    "    b_guess_hist.append(b_guess)\n"
   ]
  },
  {
   "cell_type": "code",
   "execution_count": 43,
   "metadata": {
    "collapsed": false
   },
   "outputs": [
    {
     "data": {
      "text/html": [
       "<video width=\"500.0\" height=\"400.0\" controls autoplay loop>\n",
       "  <source type=\"video/mp4\" src=\"data:video/mp4;base64,AAAAHGZ0eXBNNFYgAAACAGlzb21pc28yYXZjMQAAAAhmcmVlAAA0AG1kYXQAAAKuBgX//6rcRem9\n",
       "5tlIt5Ys2CDZI+7veDI2NCAtIGNvcmUgMTQ4IHIyNjQzIDVjNjU3MDQgLSBILjI2NC9NUEVHLTQg\n",
       "QVZDIGNvZGVjIC0gQ29weWxlZnQgMjAwMy0yMDE1IC0gaHR0cDovL3d3dy52aWRlb2xhbi5vcmcv\n",
       "eDI2NC5odG1sIC0gb3B0aW9uczogY2FiYWM9MSByZWY9MyBkZWJsb2NrPTE6MDowIGFuYWx5c2U9\n",
       "MHgzOjB4MTEzIG1lPWhleCBzdWJtZT03IHBzeT0xIHBzeV9yZD0xLjAwOjAuMDAgbWl4ZWRfcmVm\n",
       "PTEgbWVfcmFuZ2U9MTYgY2hyb21hX21lPTEgdHJlbGxpcz0xIDh4OGRjdD0xIGNxbT0wIGRlYWR6\n",
       "b25lPTIxLDExIGZhc3RfcHNraXA9MSBjaHJvbWFfcXBfb2Zmc2V0PS0yIHRocmVhZHM9NiBsb29r\n",
       "YWhlYWRfdGhyZWFkcz0xIHNsaWNlZF90aHJlYWRzPTAgbnI9MCBkZWNpbWF0ZT0xIGludGVybGFj\n",
       "ZWQ9MCBibHVyYXlfY29tcGF0PTAgY29uc3RyYWluZWRfaW50cmE9MCBiZnJhbWVzPTMgYl9weXJh\n",
       "bWlkPTIgYl9hZGFwdD0xIGJfYmlhcz0wIGRpcmVjdD0xIHdlaWdodGI9MSBvcGVuX2dvcD0wIHdl\n",
       "aWdodHA9MiBrZXlpbnQ9MjUwIGtleWludF9taW49MTAgc2NlbmVjdXQ9NDAgaW50cmFfcmVmcmVz\n",
       "aD0wIHJjX2xvb2thaGVhZD00MCByYz1jcmYgbWJ0cmVlPTEgY3JmPTIzLjAgcWNvbXA9MC42MCBx\n",
       "cG1pbj0wIHFwbWF4PTY5IHFwc3RlcD00IGlwX3JhdGlvPTEuNDAgYXE9MToxLjAwAIAAABY9ZYiE\n",
       "ABH//veIHzLLafk613IR560urR9Q7kZxXqS9/iAAAAMAAAR1HNHnmrI7bLsAAAW/T8AD3zEcOIBD\n",
       "mj+Ih2246MV0Y78sgxzB+Jh9+inAA70v72cbxTBnYkTr0i4TPpD3fud3cMc9fhJW7w9hTNvAs5gU\n",
       "DZsW7J+Ublz1I/jQpFDKPYkxP/TP8NkB6XA0eusKRFcq+cvjMxxmTpgnDIcLC3Eo3szDtntp4dll\n",
       "8d5p56QHO2NCvd5DH0HrX2Qjm8CwEs4mNjRj47hWqxf4LOcNXWjvdtOp9+fwfF4T7xuYKY4l5sFH\n",
       "k4gg6voyOlq5m/0SDHI9Ev+QpfxY/DmKpzv4sJVCnExaa8Tl56/uQw5aeWWON65dnskE2R846ySw\n",
       "3nCz+VeFD5WOFSiO83EEpRrLuvj4FCcYd8LJkbBqO/WRZe6Sz9f/3kkFKJyoJMIFeank0vpRIYiu\n",
       "F2LshAv791SKv/5JjhTH6yZyiw0mQpDtI5mxgeOrpsvbej1OqGHePed3q3XQEWETs61R3+O5OOPb\n",
       "14dPeuAVlfRAa5VLVAP3h/oiTA17hnD+Bg62F2HX+fOANEg5QPGX51Dwxs8OUAXATxnV6xBz2cMf\n",
       "sByjVJTisBROciCmkcdi3ereEkhiFiIAKaujThPKzsXuN/zBEt0uOIA+1EOJpdj94g/6FNeoJnn5\n",
       "/I5S/8950GOdS8hfcaxKLw647vswaD2Y47sNuHdECxCspkcC648ALchAa3Y+TFWL68/PevxdHXFA\n",
       "3YtKFTXvQP2m+aCz+lUnct+Js5VbSoffZBYyNs3Xxo8IyZ4dwC8m5sbzWjI9PXC4BNwaZqPdwDS+\n",
       "DH3Z51ZxhyDtKV5yT3okYf8A7GHjxdmP1kWwWrjR+ePF1t60kLFUvdHRyZBcv3wj1YwQzHWcl7/R\n",
       "dr9E1yi2tcgSQ+5VaY7JYxd0+k/+y0WRuszKJnZzqofRbt71ZRp8w97daJI+gF+APmHF1s+uj/AP\n",
       "9bL3fohG/uLATtfEVwb8rmtKRJsMSykNsrjOMKiajT7CL4OGZ3q2PXN1yacXfLkqzRYgETqW/v21\n",
       "XQeuIeeQ2aClGOqH7bHbyd/1k4NyDpI+4yTPIGEVynGM2rIRzxQqH/ilUNcIu6dGs2khdECReUA5\n",
       "kXz1xviF3ZSYj03NYMd2nXo2KblW/b7dNk0DLVTwr7gTVu5K61+JU4f1bEeY+AF3RbeLH3CioVCH\n",
       "NSOplGpl4SLV1ehWUwjWMHfnAugG1vTey/rAFpKwUKvP69J2Gm/Ee/Zya1YA5h3lt1aX9VLjtiIX\n",
       "Ay+6x55VFzIK2828bk5kCpd3S1P3UtUM6CdopsSY991z/BTN6bef5j78imSo84yH0Yk3rqfFsGyq\n",
       "bN9eAlA18ZAt9r+f9vNkkBJ6autUaS0dtr5b+jHnYOj9ecXRxvpvbriBMbo+V7QeqLT9qHsa5DzG\n",
       "/tJ8rPIsZMcf/LDt1DgWY1WGZ5Nl3bE+CH6jS6adq1bkYvRB+soSHfuk8i407/qQAMiq/ES47a/z\n",
       "6P8ziiCeMyRygrdxaZ/AvYOgBuJY9JzzTtdJnWjQlecH77K9xlRrfxjIYsEhCxnDKKPPChifqmF/\n",
       "dvvESisrdUcj/KL3oDsNYvXyy9mxnpkzdCD72itxREEhHOJFzzyZp4E/l749jtIiM1kkBOyvS77X\n",
       "8UKKI2Ggg05cXBzRvr36YBEeLSUXXAzHul+qEyTpAkgZt+PCzmNxp6eX9ZLih2U+tKAHUxLqiMz6\n",
       "PCa/EeicXpgK9EuLejYqiFDP2D5T0nF+2WZSZl8g+x8iO6GtlpQaOZyZOHECbhbIuLMfX2cS266I\n",
       "OiedefvwtA13toIBZ8EMU4NDAY1UPL0ecfFFqTEbhlQEeB5osaUg3hVITXzdvUYtXUyqdsk0oTY7\n",
       "OqYVW5I02jmIG/DXtwhOXkPz+l9r4f+YonfjBnP8fcKXyEGbJo3WEEApHK/zRUcj/3rjXZznKEMt\n",
       "8dEU83UnT43MMcXOm/ThoTcNToCw3S089lolo6chkU2+izOeyC0sYz4jqiWEX8J62QH4n9omPp5g\n",
       "4/XaEiQiIs5oDHqnxYEVsZGbK9a5ZcF4CW2raMNY/RHmXwNWNM/2xIqHg0KxLJvFbeG706TzYAVx\n",
       "2KjCCngzGaTvyWRG/GJQzP47vDeFBmehFP6uKYc3o3BZ8yLwifIRcp0lk5P59xHsLGeyihXt5UrE\n",
       "zgSmiZSCJm165wDnBxcEf0DXYBlnN9t1CEgPhA1AK6tXu0KyZuHvTkFpd1vcINPU/rq0sk1nxGWB\n",
       "cH/mj87/nm64ZBEz42CSggFWbsI2VqJDBeOYZLWyMXz3KNNC9Ys5hzs9zu8eht0Wm1f3M89/iN6R\n",
       "Fxhs7IRS//dohZLi/qdwfGNqJnbn/yvuBzLwH77eRyuzBB9SZn1zDZ0rJNnWoj1ezwka1tGRbi2f\n",
       "zvLnyrP/VZ3B9Doa6aioi/lj87wZ5hj2OIgYQjaNTuMTMeqJSgmx2VdpHVNDZekivgOHObetcqfp\n",
       "w8LuJ50DBJ6Umb2apbQe5v3vSFFf8k4QUKxywFEnxG5UHEjB/IjGCjrn5HvhPTkG1JYaAqg2hGKT\n",
       "mnVIvCQ3Mf/IaCpDAg8bC341jtW9YF8UMW3JsO0GfIqggAY3AKP8RLp2gIc7DDX9ppJteK06Iatq\n",
       "kC0D3gIlDGY+1tG/lGcCqbsq0JK/uTwYv+jVOSnfD2aMpIPzyBpNBDFc11bTSwNUj6e0RsPWYcqI\n",
       "vt9DJrfPuOr5z5siG6FMFu3jPd+vBltPRVukLb/Z/+LGR0cuOlGjU2rGAJgauwR8E+v9yfm7o1Ne\n",
       "Fq8v+4ZldcJAFjup0hFPik+yS+W/4+Q+IhLVJspQ+SCvQcQ/sQ3bikKMH0hEFkOcaQyYnRUU2yxV\n",
       "w7U3C1LOGlB9V7b+dPpzV1vDRnd/zu9chv8u1uVV/zdXerpB5V5mbLDKvCp/xRkGYrtNBp/Rwu1G\n",
       "oiz1yPM7mufNUjMKlNaCHpXmInrEbChR6AMFG0DRP4ixh1DAKmxbDgD8QBcCki/fozxVQShBVYWg\n",
       "utB32HBSIBkVYsGJzBgHlKbGHaY3vP0US/rxSEM539GwhBhpQ6pYQp5s4wK9GsPB6n2SCqRHEH7C\n",
       "I7Yuw2yf3v8NxYYThqRyRdspF8LVzjDdFDcFI2tYA/fgxmCikiE/hj/k/3lb3BJ2OW92rFh85P7E\n",
       "t4K5HSnzuuQZhA6Nlxz4s9C+Xj2GzKouxkfgMXmN577b1K6B+j+HRHk6uVdB6eaSRlw6OIkZWP7i\n",
       "XjGrnKAXFUPyE4fr0ylPZZ1xuB7B/zj2P39sAlM2JzO3b0SkEudX20Cp00/JVA1rfpv/a1fw5wNE\n",
       "tZBtqAvdTMAZ5oiRksKITSyHUF2Qm9M23CPFYtNEXiWnoah0AZdL1bia7CA/GcjfikrjHmP4XOgR\n",
       "tNVA9y+TZYHA4crw8oAToh/eRv3kAc2cL75lMJUGaNZJD0xEfpVnwVOABf1C/vjiERyck5zPa9rU\n",
       "YNzSAtndy/XzWWVVuJKp3+07GAVFT+H8ne8Qiy0Dh7al/W52SsCizCfdSkKiRcCLXsB2wTWNzvhX\n",
       "fFD3cD4Rs90cO6YQS9fG5BZj5CGZr2/eOX0DBKO8UVnX2kz82lPv4nYdySA4vkyEdRUxUG9R+ZQV\n",
       "4Ms9/5J3jP0YDfdYafGRg4V5d4n8SDcmKi32ZdfgZfaD/shN6Defovh5QXa52S8aq0Eh4OIKKl8T\n",
       "ddn79oNOKORd20c146/d+RJ4Q9GNKIHf6XMPK/qLS1ZL+2Z2CpDwshxYziVw2+8ZURWWXfJJJuJu\n",
       "itQqmzo2QAVkJQO4EYfhFIi7LU/s4g70t4WexOYbmXlOe/wco6ncv6R4Tjmgo5tqQSgZaspsmU+j\n",
       "2zW3S0ei2M/9NPRp16N26OzCazVz5bQnjM1rbTfXd05m+lsXCDWYzUrw79srkNmswgoy4f4BzRIo\n",
       "I048g5GZAW/KvcP3iMLl1CMkDBHyen2lxekgfimGyldCNgQlM/gpi6aeNnI4v+8SpRELjwTsxmaW\n",
       "DS5eVrxC+8F5DL/WmAtZposqXIM1JU37tZGvroT7/mYKsWspC6/zzrGSdV6FBE0zFlwLoZHrpDtx\n",
       "Wv0Uu1uhZOwgROdVCHQc+pb1q21OOlN971f2HMg58D7qwHkyuH5BCnsY5cm+MkXh017GeuyBGOk3\n",
       "XqVnH6nX1TQXKFWaTFL0ZibhbOw+dqHWzCnW90/Tix04sjS1LCkbmaqF8B5iZz5u86knkd88rKx/\n",
       "oDMckA/URNXlSzpneHdiymruZGbXVvlVmqOT7T+otA9WmpZgw994QkX9AFwnboKRgODMHB8gcNzs\n",
       "PEIDgx7aVcYD5SwzFe/kFJn7UKBY7k0347kKV6c0RiwyWYXo2T2XR1pO59A8NjGI4zecp0PWQ9Yu\n",
       "aiHgWgaLP4RLm0HLVCmJjoTYx/cWM5CJMX6c7N13w9fIE1FOcoYADSpB4wdzmM/pEY8QE7rojcGy\n",
       "9puL5SRknn6ro+zJ3Ev9s9Omcr2v3hPDfSwUnVtTEcYmB5qOU4G0PtbluLBS6UA8luLiUssWJohD\n",
       "XlUoiwDQsTgtvjqxrcIii3fY8dRTikbMflkLztICs4ItTpSlPn5L313tiQSHP0C+OEWa16AkhSAe\n",
       "lqP2/6/rUjn5G8oWplnoi5GC84uJbKYRb1C7fz2g3nIh3EVau6EeAeS34fyweluKNvRpqtk3MDgC\n",
       "zvpLpOK94A/DIvGU/VUUdf80zO/AAsekXionJZRtik7bOpELiC2CimAFXJEbdrYUzqlrov/k2tUm\n",
       "fwBldhkVjbYXN9ZY3859Q42Z05fU3WndA97af1lR+TbAJgMwmhyFYFlmH1dwM7ZbsqNPDNZpSbod\n",
       "AmA82ybQLWHovfeica7QtqHZt7Y6CcMQ4OCJ2kEpPMFdTTYd8uxfHiSZTZEaUhbsFbMr5/krvVd4\n",
       "qtt+cQxWfYycjYltCQg1/qr8W+ipXW8rRuKYZfK919OORRZr8EpE2GDYDtQzKReKTb/Bh4VPX3++\n",
       "Yg9Z6D7Udh+glSVry3P41gGTV4/8FQjsYyeBRF1LK8nGWQAJRlupN8uUWJev6JD/MyK3/UPZ+daa\n",
       "QZN9oUyGV87cOws7dMvKrl2XHTE34crkD3HQHQc3DsUAtwc5yPD1NxCFV1RojN/6MN5BxxD7bLbG\n",
       "M2Axqs5X2epdROScn4eRaiYvBnGB7VfGWEd4AJrNqIx8+F2QHYdq2pYrAO6EwrkQ2H5L380RP2Le\n",
       "LoJRiG4q6rxMDT3CwG7LdsJ8FBBdczMjwrqTiB9Vx+zUDtFWm7fBE5gvnvRGecgSL+0RI7YmNFQF\n",
       "qdYUvaDE3hfJZMVgABt6ObsBo27yUWZS0usQp+eXQ+acJIh3AI+z8Ka+xuErOTJIH1Bw4VCjv22i\n",
       "Sn3o/lcWHT1izCWbROSlxQl2ZRHPfUOk8uEeyAupoIQpilasF0ysWWYH7p7Lh3Eqtlc2sXPsUQT4\n",
       "X5ecLGZZBrjyEA6iV9Wo4IaJrF6alwINsIBfUybutkllUyEDX0b0RBAwWO3wE5kHWklLTxkAQtjx\n",
       "917LtNZbAC9N59SrLS55bik5aDeMDQiPINeLkBoTdN4CRImbdxwcSXZBhd27+0n/LiepTrBq9hR1\n",
       "g0mXpuas1VVvZe4/p1DRRHsFFkzgRPjbsWuGCSMVqWG1stWNwePEJ1Ntxnmbj6bLsKxrVHutIoic\n",
       "optxmNnBNdgsMPiF3swSb0cHK+XHuqmCxsRvg8F4deOCicpWKYpik2H88eqOzrWDLl++f/91ShmG\n",
       "VZJG7+B2KCTtVfrufklERt3tEkClL7agvlxQDI36DffWLoA4Ls0MjbegfVq50hD77ZhPUXmAd7K7\n",
       "0Rwz2ZhhKPaAzFu+IE/qqS1EmCUigQllQQN93TdZseamKQjOb+vUa7tdROvSJ022an/s//8Y/zJ3\n",
       "jekOHV+vKNIRqRDAwQGMd+xLdXvw6Zv7Cmr+0a3CzEe1htHV/8byrFYeXD0+uB9IflO6g3Tjq8fZ\n",
       "Ui+bKoCy3qljqd7MIy+IaQ12aWzmMNsgfdf/rmxc5UvDqujCf3xxrCU9kzfLMcXz1eUAkO92X4Xk\n",
       "1NchNm1IOPWfdgwEkQvsgxmM0Nb7/qecrB9eQZtAaoKyq7r9ph6NkGRx5JdpzwvmOe/XxFMcoEhw\n",
       "49GnlY7FPw52SDSKImHUkC9XKlrr+PHYIkvuE+DJ+8hmAVgwvBBFpLvtlHXjkHBy0eakcd2awSic\n",
       "HtOOy8vePXlcUtT9qGMa6GIrvh9M51PDGSX+s2PqTaDd3NGS+QiCIhL7Wdr/3cGrszleM4YWmImK\n",
       "/Zq6ue+bSDJZ0+oR+beSjd3vR41Mym4ERTeWL5pN2KNV+wLk0ZJd1AwVdp7JhiETs2/sGeOsZ/pX\n",
       "cpOih9Vini/OOXjt9Bx/1I4qkyK7R2BhkNsWU7rNb/4CxcnKl584psaVN9nSEKmrm8Tsr6d09Qdt\n",
       "cAm8RuqCLGUJh99yaVQb5cyJ8SIpRN5Jo6Nj6k2g3dzRkvjZynJ2axm3KhIviB7LWDOGy0IFOcQs\n",
       "V+HSWWMQOB2ASfLXeoaT3GV7JOR1n5kGRuDMpHdQhZi6G688KTHCTsiQd6piVITJUNSvZDSGDb9T\n",
       "xAYy5TZJAHOl+ECxH3cTA0kNBc8v9cZCPH7ZG2WRBXOZFB+NCRNl6DlmtlJM698074/Dwr15vq+c\n",
       "U66vgK729KUsB7VzffV/70eWwz2OurPxWSa1C/HgXkBooZKiw8NTO9cBUjru196lDQpjS+4C1TFg\n",
       "tG4sivpTgDwhlU8pkJnMAhD/MwmhrejGW01GE8wQnFsc+sZXdoPq1JlvbkqAgPm02p/+nNy9YXjU\n",
       "lE//FlG/OMWzh6Qc78yk7JL6w8Pl1Z0gaTSeDJ17phQ5/zqS6su74tq7uFJ9IeCHpnbsyBjdr1i8\n",
       "QkElpYcC28XBAP7zYjbfsVLPm1HU4qQ8uzDGUWRSS953WnP7g/vO3RHCpBdA0KnsbPZmkkgzJkGb\n",
       "K1j967kssf3niuCr/uSxkV//Nw9hFwxoqXt0XtUWfAvD8K+d5hCpUZqHEHhTGZ+8+v1MEbfmX3Du\n",
       "kP2FpxeXel0LhrUvCADN81czT0p+jeb4w/siMBUqRfcga6MVofL7slbP+kbQ7UdAq27YptwtQmg1\n",
       "x4n7eA6gLmBclxdNSHRxAHYktafvFvXBZpxckHREBDOFEMxD2CRcGIIJGs96ohNsn6dkl4Y5SlGP\n",
       "T/lNwu8nIBa57+oyxCt5HkSOg5DjQpZf6gKjHlrWageiRKRFhsyMOzBXVs7mUiILssAwQwUQMua5\n",
       "qc3k5okupC5V7yofukfgLN0xSj+19ROZL6LmGO6uTHiMLKBrJNV1qlo9oyADFKWmHNpASVX2bxG0\n",
       "1tvGXfXVNElNIiqdPH01nT2lgC4al4GwSPTKrbMy2OoAPkhqHpGgci0wzRFTIWN9zBOVbaoavFK0\n",
       "HHHYM3uQoFj9YjFMUHIH7Q6pKAuiLczG6x2+MpF65ANYCUe9Edr9fSlIsO5a40wz/amSuDQe996A\n",
       "EMn7TleDuH7k+F2sBvnkxiZDfsnz6diVRkp7ReijFJouOvAMiaq7Ql9q7AAAKKEAAAcIQZokbEEP\n",
       "/qpVABdxgkABkOGFkiqGmz//tVg6+qAMq1pUIWpbwuKVVOcVQrsopyOX9LCaZNJEOjY+u4KdISeu\n",
       "56EWMGrWD2x9dt6xaZM91uUKlzR+x/ytlpAmh04Gk/4YCeAd4yoKid8j3+TlT5sBXrdD3GijVy4r\n",
       "NLo6dBt8JeOOVEx2K8578dcRpmFHq0g7D3b+cpfcLeRfkujXZq4D8LTwpQdP8HippXGUp0bbrJt6\n",
       "3ooB/lQ3deRkjTDtswtw4gIEl/iCgZvMOASKulsyze2ODX1Vn+WKzzLhe1rSaifvXwUH6Nv39ca+\n",
       "XsNDWcSOKtmE7qRHnHHLz11hyZ6R6Eodchw3VolUtg6JE0A+6dNHkWYlKG8AoI84+cog+sfW07N5\n",
       "tHHhK0Qvub78PAC/fjZ9A2Ad9cA8yzwaMVzMyoXZakgA/qhcoyf9w74PQEwdwKinOIwDFdjyseTg\n",
       "lNaHXaoAk5numhfJOyJLHGfdYUOiF1NtOOTuxUsZkM7oVLslVXKaBnPJr0ydig3O1EFj63rW6V1k\n",
       "lSG1x/X7WZssF4eoXsigaqTBKI5nYEUCbtbM5Z77512Hugh9YVUKyVB7Z+oyF1T0XCRhvEqwZOfV\n",
       "0KP1gArszOXLojPZyBmJLLH5zB1+TQG9qi1/CqiECnO+dWZro1aoUE0VZ5IubrP6Z3OAATClOWwB\n",
       "3Cdzd7604BR2wL+zRAkSdoHIumqSSqgFOmtRoIwOoYoFYS2OT+dXh7QziGEBghwWdWb4FV212uB+\n",
       "59VN8mUNII/73zKYE9CnxP1eNFx6Gm84J55Mj4DsrEX43SMQxK1cuUSPiMS0GiuPSftnudwlQIaW\n",
       "rfmzWwJV/gQbGMuRniHhLpW43PRBIPjgC6sE2kD4Lk3JNVoc0LXReAzObWcd0GMASfdnbUkY0sti\n",
       "eOoak3TyhfGbJnlFR6HaCYHze3Yp9RiBFIs+r5eCjYY/SCAAX2Mj7YKO0wu4Aab7ETmcMCrIPdCJ\n",
       "nXMScCp2u2NW19KYvJK8sZmf1ka8Jvs5eCkGQyBkUk27seUhXzDdZ1MtVyGaqxh4OURfyk88S1Nj\n",
       "2826yXcAmbBDGI98HkvU6LkMuf3p5TrZH9nV7Rbag3Uinu9b8bsE8VLdvrPrngKnp6nSD3UuqbDR\n",
       "x/6ihDtYyJ+/TjB35V5XbJMWmYq3s030YET/Zkb1z0wcMawoadxezcyCOKmn+NlkhaVFgGVbbV+q\n",
       "6FV/iOhElQXWbpngOLmGPss2b9NHRnLeek1atIjeuvvT7xIADiPc3eDHHqJcl+fLYKOu+e3+/5U9\n",
       "yy6As6CCpKOTv0mHM/Hg835inmLHO6POkBCs1lxfFgaiF+aJQYijSqIUW31lM+27RJa2I/CTcjLi\n",
       "/Ho/B745JeQHRmxjB1W5B3sfcgCRgJ8nLbqHvmBRtD94tTOUL85R2UTwBSveLJFYSZJZKWBB5tuf\n",
       "B5uZhmaUbAjqxBOJwO93CCqbA3nzfVA4N4JPgDj8p8DUnv+LRtuflzK8XVYQ089KT/xMG7xLfCUv\n",
       "TxnuQswZTho9Fb3LIQQkUdtZ7eP1uxvxpN5FjxKJlVHXGMBtnb2lqS1JQjKoVHLWKHXrURnWnMt4\n",
       "G7EhBHlJHN1vOK7ms83aZ/gBCkekaQbX95RmY7t5T6CWgxkG8osIhcDHx/G2Xtp/tbl2pxL/V0ON\n",
       "WnsAxnpF6P7SD8NObV6asHmu3HqE4qC7RXD7G9KYyPU/ivooEokqA+h43MeLvRs9JbjVjMcnWVcH\n",
       "Fn0PG8szEHS4ql3hq8xk+L93o9xJmIfmWAK++A7jqD4+I3AJF9C6H4G5BPme0kZr3FTtN8VHIlmB\n",
       "dW/Q7aQVc4H0Cy1kblKF/Fk3ywLFG4ilUnifmEPJJIQ/QVQm4mUTz6NLGodzQq+6aaRa+0pcta/6\n",
       "eU9nQhGO48iFzK4GE/Bo7hEBw1CNtTBpec1DmWEJ/xK1pQG1FoaDdz0Pefyr68Jam38UYlMu3ff2\n",
       "MzenxeWEnHpi4RlAKAm6RX7GbWfu5qqcVTqQmOxpYvhHyMs9nFdH0SboA+mGAut+4tnfe6iJq0+X\n",
       "iaCc36XE4eLLfE3mTHXGg2vkCfUsRiC5+IDhVdUGc+WxwjPwLFczuC0q84O8K0j+Ywao8C3qb6Rn\n",
       "CdvTl6jSbbBEtTb9k6LcU7+1/mNorzL3FuTHfv4S6S6NSuyY2BwV0uae/NthL5FjLrq18Neym/2l\n",
       "0APIN/iKSICWzf1hEU+3cJiyDT9aKFjhF6YcOzezepntpv0wAmiIAB4uMDfqNp6glqCAR/1gHq/k\n",
       "8X8oElRsONvJf/jpYUn51iAoqh7/CAa7sTyon5FjT0TtcE8m5mIeNXiz+OPBrDQ2evaNLyp9hR24\n",
       "mHU2ou0BIgBKZPXi6uX3Tp/C/gGRysHAvNVNAAABhUGeQniHfwAKxjA5eepfgAF1XA/VQdo7o21S\n",
       "yOArOK/Nok1i/nhMUBNUgOZxtLKpUeWZaKIKejXOn/BYbmdaH/Y1UFxJB/ClnsHYy2SQUzZVwfHQ\n",
       "oS/jHrXTwdu6lICppVheugAbntIN9Iso+0+czEta2Qv9cDJKuC4kRE46md98VHNHnabkEoLmw9da\n",
       "mHfmU+f2Vl34+1LSIN92XqydpcnI5QJ3eQVtXKDEk+A6AcfY4iXw5PfEoy/nZqNwpCV+XqvwtyGA\n",
       "J9U0LQm2zF7qHe92ljSWTe4HJpteEZjjLRhyrP4phUWaIo7JwMsLdVw5UKtebWSY5Zy/fBPNQD3n\n",
       "qP/hFLCbyMOSQpHywr+6FGxAm0Zi7PQK+tqJp5ezq5O+eWgg4ufR8OmJzie2W+TpZm1OF/Sh8IlU\n",
       "CGoPCUp4RDrJilxLd1xNhaqYFdpfBjYpcR8j08TFG5W/A5xZgnPfojTpNSz2qe0K8uxYf5Mll8Gc\n",
       "JxxIXV4vysWidhkfxvgORlk5VQIvAAABYwGeYXRDfwA/gNJZBBKr9L1YAL6jHoZvE1Eu74+G7hQI\n",
       "9CtIep/xi0XEZfdDX7k0kPGEJHq3rb8cnclHZV/slfqAqyIGkwpPqyDnhptjwuNC67H2kbXZvgJn\n",
       "Q051dNVLGr/52D5CCsI47F6ZbLpej7p11yU9iRla2JHRh5+NcLixv2rgqwFYMQQjhC0/qTYvx9s6\n",
       "GDeAVr1UXCPTgJoPChXeyKi0D0yxWzZ/5cevrDT9HVCi9s5zz4RI36ToWTLZZMvhdQFSd2gQGs8X\n",
       "CcYX9ulXqviECDO1A1COnXM3L03E2VltLs45xBGy3YLCE3LnUy+mXrRK8NN5Bz8buPegs8+nW8mA\n",
       "rVgamKGl1PiL2zfv99hF2/RU+8D1sF2h00v47BX7BAQbsJYW1ckmG6bWwnL9cW0Ssy8eYa5yL4rT\n",
       "A7uvmUuHzXlUMCfLZlR+U3NLqrFfC6ZjP7TfwbHqAaMAJiZoHxAAAABlAZ5jakN/AA8KqfbQlzzW\n",
       "6/CkdmWbAB2koWyZXHGw4LvQHl6iyaDMPwG+0JCTmSv9s+AmLU3/0Z1yEGZ4JSDxRosygr0T3qlv\n",
       "cmpZ38ZvpMiLtfO3+NjVuk+AcJCLcnICCgAAP8EAAAHOQZplSahBaJlMCCH//qpVAAWb4ve1VHhA\n",
       "NNPZVgqTvPaNJP7CEi0R+jfpDU3c6rPgw9xPYXWfJ3eolJzDTxw0maIxe1zAHDHMwizcqvSCAA45\n",
       "ZkwBMZltDtfANXgQaRP+T4AxBodgzHiB5c/j9KCKcmiQo6DoIvd2am954dDQlwQDmMw3O9SLu6q/\n",
       "TpY+FpY/xZHKYC/vHy27F3ndufYXnHx3Bu8hFzUGMBS8389eBvaC56lurKu5aousBJ2IDqS91Gxk\n",
       "FXW9a6ZuwiR6fCE2YbHMFzHTzNDMYoDDY6cD+IdklB3VLbapkscU30oc7lKpHok8ZfPq5DD+PnW6\n",
       "0I9mkq1Q/kgxRbYkiZF+f8XI3dWS8ACAklmjLBS+Ai72PZONx4BR/wycZnBVCFPcEyW1MOBYc+SF\n",
       "A9o7pom8CxAGngfQKlqMAFuanoKApZQjHv0cwu9dFgbQC4dCwP1VoaWV0Q9VYiokR8/ZqEXDT/LL\n",
       "gUZhd450ejIyDEe5IbK8QWr79s6x0a8TZ4Ve5ey5s0XDr8OMMLrDMcwc2718+hlIurOfwE18spxN\n",
       "Odo63Ff7+zezySL2jhTlnWyPtKJBKcrv59bjCGu73L2Yz3HAADFhAAACLEGahknhClJlMCCP//61\n",
       "KoACphoIQCgJLFxZI9krc/Ktu3XFSmyAjQV5u7G8JioedcYsUF8lxAC8mywaOjT88oTJ8b5FVM4R\n",
       "GulxoKN98C0gh7o+7ZOLllt3EYV4ZfbSnSpYD+uXv6i39SYs3UeUX7kuf8dTH9OqyM7UUiTxofXD\n",
       "gtHwIcofly/RQQX7WSC1gvnM+brSYRZXyjcCGvGQg+h+AkBOJX/aW3vKAdi8ABqtbGKz7D4bCrf9\n",
       "rPw5j5Djy/1WLo/m30NAutXhe3n86ljrj52pOPm5znyqqPy+DdJlKJhaPzve0NheBqHLRGpwk79A\n",
       "ec9JHJjduvRTvdiU/ZBTvHz/KJKmNWzLeRO+EutEfAtcfrpBqZkS381/sntf4JgatijYI7C3pYpD\n",
       "N76YweoMEKa28G+iFglyFa2CSGwyErG+wWsQooAaqr0B6E3NfO+SBTmxFYmCcBmK288SzThoc1WI\n",
       "CFoqHx29x26bel3bXoCKtp1ryqvqfYMRciBMzg3BBwGojrD4OEzJ2u5PY9fiqCs8yUPYEai+2rIP\n",
       "8Wv/YRj3x+qmU5h6fApHbE0ZV3eFaVnTR3PwgTnef03sinncKHOxCTu/qlDpKuYqdPUcp1ZMoPjh\n",
       "a8cKMOlapDAgN3Q6VX4q0yl2JTxx24RNSFYEBMQ/fGvA4lrPxbkMeczi3xF9ezXinUP4ndtUByBw\n",
       "bqNVRYGYtz/Ubed8/bFsdRvxkLTisH/Tm5QACTkAAAK6QZqqSeEOiZTAgj/+tSqAAqYE5RYAl3lZ\n",
       "YOIeDqTyN7oOgF8bwEVUqwn861LCdVKgdQ0/93taVqI75n54NJqv3FwkYMCpjzsHtfKR1t1lIOFg\n",
       "/2qY7cuLoXZdiE6KREYxCJIxZ/oQwoYfYxk6Cd4BN7UjVzHEMFcwB5ZQTNPxA7RCbHewYq+UHD0o\n",
       "I8cWN0gWxHXKJQaQYemw86MSRL6w/+w8A/d7a/KZBBwX2rPKd+7t5lwNGWujVWc3GjikGYjNCwp9\n",
       "4/YU01aD+eCXq5MaUC7KsNkrbOkoqdkUYigCKg5RndG5YQqslRrubwSDtgmgM8UvvTV4DQ61ZvYe\n",
       "/S3yhZ9LnnCsaDAF5HIj0m/ynWTfvQdubSQAsTU2AgEDc3TJ1wdk8KJLRcw26UbbS1XHey2KoS6R\n",
       "+4KAjBCuEhpF+PtybbjggHPQLTD3gqXQRSHjl6W/aKcdtfdEsgMiMfh7OJ09NL1FQq8ii7qaK+J9\n",
       "+vj3t7HdwPtFTy/7LOilUqqpii0vNTIyr7kudEIX9zlfkHjEDPujnXGQmyOAiJ1/uKrAxVLXJ1lL\n",
       "NycgpuNXj0YGxnnTrUBgrMH35xFecTS2FbjEYXC6KH80fdOkRJFlaesqJCydWVy8VpxFRPQHiUrz\n",
       "zfatcIsjDD2kiQxzf/tE+ipZlxBJuQJ6WKStvYV/3nLxn1DivMrVkZ3//Hu1HMQQ8x9s8eI4PVqC\n",
       "8bRNFROYwK8Ltfa4TRnIE3v2Iyz0vezx3CBkTys9swpuMAOYBdQ1+sNN0ZlUY8b77kqkK9OCTVWs\n",
       "ANBGIib7gtEp1eo+cblKSVycHo5XQ3vyfCfgcksc5rPLMGLVkoeEB4m+9bRiIQhYB1QvQV10bGwb\n",
       "AXm/Wdg1We+5U8oRlY1lU0t9IgiIac7jhXpqPSHFX3jpER6TIXvc5NizhCAAf4EAAAB7QZ7IRRE8\n",
       "O/8ACn4wLm8Y+jngsCvgBCi/Mo8xlaPPFXfNs5b827loBK8G3fvcZwAnpKHoCnf9dGu0pRP7oV6p\n",
       "GSK6wnmPwLqWJTaeFX8jEjieME5X5Y6IQk8IbkqnU+SrG5QvzF80baJPn7kUGMatNwxtI4ZyVh9I\n",
       "kRgQAAAAMgGe53RDfwAOsqnWux+9FMvCc7RvIHjN3ufEYP6O8AGyxAntyD291+ks7hWoQdsAABHw\n",
       "AAAAIwGe6WpDfwAOsqqYniCR235uLvjvHzL7ExhkSF8JLHwAAMaBAAACN0Ga7kmoQWiZTAgj//61\n",
       "KoACu/4gR+bQT8uwrxCQAVmMTb+gkfl2J2BWDu928dxvdNA8oXTHoD+E0M7AB3Hq2jm+4IWf7ZJf\n",
       "z1HV80gYY5YY4Nc7sJXxEgU6c9X2Il2Sv4R/e/Kq3rfaRsPfC3/thxr+Y5f6fS7waAYophoLJqMy\n",
       "yooDZrR1AqByZWeir/8vedxp1uo3xSsZeM5Ygli9xLAX1TwUAoSqaytuW/VO3ojXy17kVcCWgaYI\n",
       "1iJyRk5eXQVmX5GXLzD8j0BnzqQWfpddoCWBLigld/vf5HSG7OXelNdnQglf0aEc4Tk6LZjG8XwJ\n",
       "S04TxRNZ6+ylZ7ZSOWc8c4BFd804NI3ciNmL5mvtRTaEE89rDlVtEsnsWcU0q8Y8WDV3wGwde3qM\n",
       "gpnm1pyDkdGjZ+vxhP3Yz5c5ftxdOObnkoJqg9z60DAK/spWx/dMNiMiiErxnuJkQjcWEJDVVa6P\n",
       "Mcdkg7QV4E6h+XuCg2bQWs/HGE9xNtKjocRXxJ1IVSNyzYdkLzBSpUHddKJkfp1YG1f/qYImGFJ2\n",
       "v4XedUWtit8CV7EeEYBSzg/yl4wquv/ydhsT668iyrRWqzKZOtNRtYocZ+Cr2g20YHngI2HAtMAB\n",
       "fnsV3aCAaeJUaygdToxLzz8wn5KOkb7YgsRVV7eFpPBP57rU9XpzaHXnNae5L1JdAs7jeAaoGdJr\n",
       "qKDsTaViP9K8ouQSGwppZrsqmWah8kiKAEQJaY/IYWgq9HLnIABUwAAAAE5BnwxFESw7/wAKmY1g\n",
       "laUxQm/JaTHSEzpAVw5prfBShG/CCHkbPC/D/2M+l24ax9BySM1lY+eTgfXaHeSla5eu/geoMwCs\n",
       "2aZQBflkBIwAAAAXAZ8rdEN/AAdZVR1yRYAHhpWU48qU7MEAAAAdAZ8takN/AAdZVTQQPFXo4eKl\n",
       "s9JA6u2C4g1g9IEAAAGzQZsySahBbJlMCCP//rUqgAKntCoQAXDdwktygKsiWrGtdTIU4ChpEE95\n",
       "U4VvuSq2494wHAXvRmy02+/yUi3/nuSuMqrhPfWrpdv/XXJaOnt243ONcea9DVfXqyUfsmwvoC7F\n",
       "Qbb0IICPMe4b0+9jtQzKn1ZQ3oBpX+P2KyqH26Zn/q2y/6jPcFRHeX34hAYCwF7HFNwioAuYeIhL\n",
       "K4TJxtghGO61vYaazh/HfLI1tgG7Kf2sxs4ZlgfaKsJYRslH0tluoNEXZzZRInV25T4ja6GVDg0i\n",
       "PWDFjyFRbOO2vwc8c9bTIpHy73RD4r1TOg+eF+w0IAcbvv/Q5trsw6Qv+v9pnqH5GRRKfIXVElCH\n",
       "bWa93pfssm7Ph0HYUXbRk/vdwVLDZkCVXmHFnJ1y5Fcsr/DUMg9k2lu0T54F3/NajFbPTpNkD/Px\n",
       "QZE87xtElXHhXao6c252RsN4LTAzRnRtYi6ROI01Jq3Cm+HJiod0/R9vygJZrwN5DMuWj1nL9iKX\n",
       "fOD6Jv2E949Dskn93Ob4Bj0EsKYjKLYvxlfAOhrsLrsu+WaaVaNzKMJ6UgREZH+wQAH/AAAAH0Gf\n",
       "UEUVLDv/AAU/GDoHgAN1esN6vSN41yAAs1YUTcAAAAAXAZ9vdEN/AAdrT7A741C1HbIFh4gAG9AA\n",
       "AAAYAZ9xakN/AAdsozGpJz9OT7lxfzfAAMaBAAABCkGbdkmoQWyZTAgj//61KoACpk/SADopLFtq\n",
       "cSPstFpU/83242MqSaDf4F/RwCBt7Pk8G+y2b+lCcqoCcVH9I05ErWzRDSb7Rk0y2XQbEoGd7C+3\n",
       "K9BoI/vFR54MtecxuiyB8CccJzPEBL83z01/9Di7FX9nof6oINDbDiWIOhyaKsMgK6hL6F7Sk15K\n",
       "FbW2ELZ4YRfiL0lCRZiIiU+XGQAzY9VQyr7k+eKriLNYtsRnDMsDGCiouohv53QE4Qh9wXvDvThf\n",
       "XdQggKNgemiVNG3juo/BH4FWVntsZqF+JJrsHjhlmbpHHio99vLWLQisxccHfr/uH7mH3RFJ39Eg\n",
       "VQgbZV1zDvzfABNwAAAAIEGflEUVLDv/AApRjWu3fr0JlIn8Jnhag+tg2AA17UEvAAAAGAGfs3RD\n",
       "fwAHa1AwON9mzh05ICjB9IABLwAAABUBn7VqQ38AB2yisPQxui1VxvQAJGAAAADLQZu6SahBbJlM\n",
       "CCP//rUqgAKUUOoAFtN/MADXnueI+4n9eFO3v7JujwWt1oKao6q+WzV8B+prYFMlAfJYtJvx6M0B\n",
       "RW73nQONlv9QnM/Sg/HA2hVa42LVEIf9BiMwf6GtwIRe2BhvACB6WQG+C3BDmquxOiH+XblXFBZj\n",
       "nA+peb+D+qaSN2TZAMI3MY6mrjZExh514RVQSLFRg0RJ8o/NLLJoro63N2sRou3OcshXAHiM7q3M\n",
       "lTrVQ+FuLF6kN/zV/6KVL3515oAAGfEAAAAiQZ/YRRUsO/8ABU3DL3xVp+JJt98M09kJAklImgAJ\n",
       "46BvQQAAABgBn/d0Q38AB2tP5UgKEcZLuFhQUAAAh4AAAAAXAZ/5akN/AAdsozGpJz9OUwTR460A\n",
       "A3sAAABMQZv+SahBbJlMCCP//rUqgAJw5X6QALek3AMi5fcEWznDTEnjZqkc2zo9AmmQeOZ+q9Li\n",
       "QjEPWhdDtInNcBEgyM2DmUl5ipUGxgAI+AAAACBBnhxFFSw7/wAFTcMvQwMTxJONvogIAhbklAAU\n",
       "XQB/gQAAABYBnjt0Q38AB2tQMDjfZpjhg6XgAK2BAAAAFQGePWpDfwAHbKKw9DG6LVXG9AAkYAAA\n",
       "ABlBmiJJqEFsmUwIIf/+qlUAARn6XjRgABQQAAAAHUGeQEUVLDv/AAVNwxwDEFSMutYtByhQAAB2\n",
       "VAGBAAAAFQGef3RDfwAHa0+wO+NQWjO5EABswAAAABMBnmFqQ38AB2yisPQxuhkIAA+ZAAAAFkGa\n",
       "ZkmoQWyZTAh3//6plgAAAwAAE7AAAAAcQZ6ERRUsO/8ABU3DHAMQVIxSVLxvl2wIRaAPSQAAABMB\n",
       "nqN0Q38AB2tPsDvjUDIQAB8xAAAAEwGepWpDfwAHbKKw9DG6GQgAD5kAAAAWQZqnSahBbJlMCG//\n",
       "/qeEAAADAAAm4QAABQdtb292AAAAbG12aGQAAAAAAAAAAAAAAAAAAAPoAAAPoAABAAABAAAAAAAA\n",
       "AAAAAAAAAQAAAAAAAAAAAAAAAAAAAAEAAAAAAAAAAAAAAAAAAEAAAAAAAAAAAAAAAAAAAAAAAAAA\n",
       "AAAAAAAAAAAAAAACAAAEMXRyYWsAAABcdGtoZAAAAAMAAAAAAAAAAAAAAAEAAAAAAAAPoAAAAAAA\n",
       "AAAAAAAAAAAAAAAAAQAAAAAAAAAAAAAAAAAAAAEAAAAAAAAAAAAAAAAAAEAAAAAB9AAAAZAAAAAA\n",
       "ACRlZHRzAAAAHGVsc3QAAAAAAAAAAQAAD6AAAAgAAAEAAAAAA6ltZGlhAAAAIG1kaGQAAAAAAAAA\n",
       "AAAAAAAAACgAAACgAFXEAAAAAAAtaGRscgAAAAAAAAAAdmlkZQAAAAAAAAAAAAAAAFZpZGVvSGFu\n",
       "ZGxlcgAAAANUbWluZgAAABR2bWhkAAAAAQAAAAAAAAAAAAAAJGRpbmYAAAAcZHJlZgAAAAAAAAAB\n",
       "AAAADHVybCAAAAABAAADFHN0YmwAAAC0c3RzZAAAAAAAAAABAAAApGF2YzEAAAAAAAAAAQAAAAAA\n",
       "AAAAAAAAAAAAAAAB9AGQAEgAAABIAAAAAAAAAAEAAAAAAAAAAAAAAAAAAAAAAAAAAAAAAAAAAAAA\n",
       "AAAAAAAY//8AAAAyYXZjQwFkABb/4QAZZ2QAFqzZQIAz5+EAAAMAAQAAAwAUDxYtlgEABmjr48si\n",
       "wAAAABx1dWlka2hA8l8kT8W6OaUbzwMj8wAAAAAAAAAYc3R0cwAAAAAAAAABAAAAKAAABAAAAAAU\n",
       "c3RzcwAAAAAAAAABAAAAAQAAAUhjdHRzAAAAAAAAACcAAAABAAAIAAAAAAEAABQAAAAAAQAACAAA\n",
       "AAABAAAAAAAAAAEAAAQAAAAAAgAACAAAAAABAAAUAAAAAAEAAAgAAAAAAQAAAAAAAAABAAAEAAAA\n",
       "AAEAABQAAAAAAQAACAAAAAABAAAAAAAAAAEAAAQAAAAAAQAAFAAAAAABAAAIAAAAAAEAAAAAAAAA\n",
       "AQAABAAAAAABAAAUAAAAAAEAAAgAAAAAAQAAAAAAAAABAAAEAAAAAAEAABQAAAAAAQAACAAAAAAB\n",
       "AAAAAAAAAAEAAAQAAAAAAQAAFAAAAAABAAAIAAAAAAEAAAAAAAAAAQAABAAAAAABAAAUAAAAAAEA\n",
       "AAgAAAAAAQAAAAAAAAABAAAEAAAAAAEAABQAAAAAAQAACAAAAAABAAAAAAAAAAEAAAQAAAAAAQAA\n",
       "CAAAAAAcc3RzYwAAAAAAAAABAAAAAQAAACgAAAABAAAAtHN0c3oAAAAAAAAAAAAAACgAABjzAAAH\n",
       "DAAAAYkAAAFnAAAAaQAAAdIAAAIwAAACvgAAAH8AAAA2AAAAJwAAAjsAAABSAAAAGwAAACEAAAG3\n",
       "AAAAIwAAABsAAAAcAAABDgAAACQAAAAcAAAAGQAAAM8AAAAmAAAAHAAAABsAAABQAAAAJAAAABoA\n",
       "AAAZAAAAHQAAACEAAAAZAAAAFwAAABoAAAAgAAAAFwAAABcAAAAaAAAAFHN0Y28AAAAAAAAAAQAA\n",
       "ACwAAABidWR0YQAAAFptZXRhAAAAAAAAACFoZGxyAAAAAAAAAABtZGlyYXBwbAAAAAAAAAAAAAAA\n",
       "AC1pbHN0AAAAJal0b28AAAAdZGF0YQAAAAEAAAAATGF2ZjU2LjQwLjEwMQ==\n",
       "\">\n",
       "  Your browser does not support the video tag.\n",
       "</video>"
      ],
      "text/plain": [
       "<matplotlib.animation.FuncAnimation at 0x7f3961fceb90>"
      ]
     },
     "execution_count": 43,
     "metadata": {},
     "output_type": "execute_result"
    }
   ],
   "source": [
    "fig = plt.figure(dpi=100, figsize=(5, 4))\n",
    "plt.scatter(x,y)\n",
    "line, = plt.plot(x,lin(a_guess,b_guess,x))\n",
    "plt.close()\n",
    "\n",
    "def animate(i):\n",
    "    line.set_ydata(lin(a_guess,b_guess,x))\n",
    "    for i in range(10): upd()\n",
    "    return line,\n",
    "\n",
    "ani = animation.FuncAnimation(fig, animate, np.arange(0, 40), interval=100)\n",
    "ani"
   ]
  },
  {
   "cell_type": "code",
   "execution_count": 44,
   "metadata": {
    "collapsed": false
   },
   "outputs": [
    {
     "data": {
      "text/plain": [
       "[-0.0715,\n",
       " 0.6263,\n",
       " 1.1510,\n",
       " 1.5457,\n",
       " 1.8430,\n",
       " 2.0671,\n",
       " 2.2362,\n",
       " 2.3641,\n",
       " 2.4610,\n",
       " 2.5346]"
      ]
     },
     "execution_count": 44,
     "metadata": {},
     "output_type": "execute_result"
    }
   ],
   "source": [
    "a_guess_hist[:10]"
   ]
  },
  {
   "cell_type": "code",
   "execution_count": 45,
   "metadata": {
    "collapsed": false
   },
   "outputs": [
    {
     "data": {
      "text/plain": [
       "[2.7830,\n",
       " 4.1204,\n",
       " 5.1236,\n",
       " 5.8759,\n",
       " 6.4400,\n",
       " 6.8627,\n",
       " 7.1795,\n",
       " 7.4167,\n",
       " 7.5943,\n",
       " 7.7270]"
      ]
     },
     "execution_count": 45,
     "metadata": {},
     "output_type": "execute_result"
    }
   ],
   "source": [
    "b_guess_hist[:10]"
   ]
  },
  {
   "cell_type": "code",
   "execution_count": 46,
   "metadata": {
    "collapsed": false
   },
   "outputs": [
    {
     "data": {
      "text/plain": [
       "[-9.2846,\n",
       " -6.9781,\n",
       " -5.2470,\n",
       " -3.9478,\n",
       " -2.9726,\n",
       " -2.2407,\n",
       " -1.6912,\n",
       " -1.2787,\n",
       " -0.9690,\n",
       " -0.7365]"
      ]
     },
     "execution_count": 46,
     "metadata": {},
     "output_type": "execute_result"
    }
   ],
   "source": [
    "dyda_hist[:10]"
   ]
  }
 ],
 "metadata": {
  "anaconda-cloud": {},
  "kernelspec": {
   "display_name": "Python [default]",
   "language": "python",
   "name": "python2"
  },
  "language_info": {
   "codemirror_mode": {
    "name": "ipython",
    "version": 2
   },
   "file_extension": ".py",
   "mimetype": "text/x-python",
   "name": "python",
   "nbconvert_exporter": "python",
   "pygments_lexer": "ipython2",
   "version": "2.7.12"
  },
  "nav_menu": {},
  "toc": {
   "navigate_menu": true,
   "number_sections": true,
   "sideBar": true,
   "threshold": 6,
   "toc_cell": true,
   "toc_section_display": "block",
   "toc_window_display": false
  }
 },
 "nbformat": 4,
 "nbformat_minor": 0
}
